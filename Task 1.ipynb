{
 "cells": [
  {
   "cell_type": "code",
   "execution_count": 1,
   "id": "886527ce-067f-49d4-a1cf-2dc46be34365",
   "metadata": {},
   "outputs": [
    {
     "name": "stdin",
     "output_type": "stream",
     "text": [
      "Enter your name:  Ritika Joshi\n",
      "Enter your age:  20\n",
      "Enter your city:  Indore\n",
      "Enter your hobbies:  Dance\n"
     ]
    },
    {
     "name": "stdout",
     "output_type": "stream",
     "text": [
      "\n",
      "--- Personal Information ---\n",
      "Name: Ritika Joshi\n",
      "Age: 20\n",
      "City: Indore\n",
      "Hobbies: Dance\n",
      "----------------------------\n"
     ]
    }
   ],
   "source": [
    "name = input(\"Enter your name: \")\n",
    "age = input(\"Enter your age: \")\n",
    "city = input(\"Enter your city: \")\n",
    "hobbies = input(\"Enter your hobbies: \")\n",
    "\n",
    "print(\"\\n--- Personal Information ---\")\n",
    "print(f\"Name: {name}\")\n",
    "print(f\"Age: {age}\")\n",
    "print(f\"City: {city}\")\n",
    "print(f\"Hobbies: {hobbies}\")\n",
    "print(\"----------------------------\")\n"
   ]
  }
 ],
 "metadata": {
  "kernelspec": {
   "display_name": "Python [conda env:base] *",
   "language": "python",
   "name": "conda-base-py"
  },
  "language_info": {
   "codemirror_mode": {
    "name": "ipython",
    "version": 3
   },
   "file_extension": ".py",
   "mimetype": "text/x-python",
   "name": "python",
   "nbconvert_exporter": "python",
   "pygments_lexer": "ipython3",
   "version": "3.12.7"
  }
 },
 "nbformat": 4,
 "nbformat_minor": 5
}
